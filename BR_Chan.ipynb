{
 "cells": [
  {
   "cell_type": "markdown",
   "metadata": {
    "inputHidden": false,
    "outputHidden": false
   },
   "source": [
    "# Canadian Bank Reviews\n",
    "#### Analyzing user sentiments based on App Store, Google Play Store & Twitter reviews for top 5 Canadian banks. Building insights from features that correlate user sentiment postively or negatively with the bank's performance."
   ]
  },
  {
   "cell_type": "markdown",
   "metadata": {
    "inputHidden": false,
    "outputHidden": false
   },
   "source": [
    "### 1.1 - Importing Libraries"
   ]
  },
  {
   "cell_type": "code",
   "execution_count": 22,
   "metadata": {
    "collapsed": false,
    "inputHidden": false,
    "outputHidden": false
   },
   "outputs": [],
   "source": [
    "import pandas as pd\n",
    "import numpy as np\n",
    "import datetime\n",
    "import datatable as dt\n",
    "import matplotlib.pyplot as plt"
   ]
  },
  {
   "cell_type": "markdown",
   "metadata": {},
   "source": [
    "### 1.2 - Importing the dataset from App Store, Google Play Store & Twitter"
   ]
  },
  {
   "cell_type": "code",
   "execution_count": 32,
   "metadata": {
    "collapsed": false,
    "inputHidden": false,
    "outputHidden": false
   },
   "outputs": [
    {
     "name": "stdout",
     "output_type": "stream",
     "text": [
      "(17883, 23)\n",
      "('App Name', 'App Store', 'App', 'Store', 'App ID', 'Review ID', 'Country', 'Version', 'Rating', 'Date', 'Author', 'Subject', 'Body', 'Translated Subject', 'Translated Body', 'Sentiment', 'Device', 'Language', 'OS Version', 'Reply URL', 'Topics', 'Custom Topics', 'Tags')\n"
     ]
    }
   ],
   "source": [
    "df_rbc_reviews = dt.fread(\"/Users/chan/Desktop/BR_3JRC/App Reviews/RBC_App_Reviews_Translated.csv\", encoding='utf-8')\n",
    "print(df_rbc_reviews.shape)   # (nrows, ncols)\n",
    "print(df_rbc_reviews.names)   # column names"
   ]
  },
  {
   "cell_type": "code",
   "execution_count": 33,
   "metadata": {
    "collapsed": false,
    "inputHidden": false,
    "outputHidden": false
   },
   "outputs": [
    {
     "name": "stdout",
     "output_type": "stream",
     "text": [
      "(132685, 12)\n",
      "('user', 'fullname', 'tweet-id', 'timestamp', 'url', 'likes', 'replies', 'retweets', 'text', 'html', 'Platform', 'App Name')\n"
     ]
    }
   ],
   "source": [
    "df_rbc_tweets = dt.fread(\"/Users/chan/Desktop/BR_3JRC/Twitter Reviews/rbc_tweets.csv\", encoding='utf-8')\n",
    "df_rbc_tweets[:, 'Platform'] = 'Twitter' # adding a column in sync with 'platform' in app reviews\n",
    "df_rbc_tweets[:, 'App Name'] = 'RBC' # adding a column in sync with 'app name' in app reviews\n",
    "print(df_rbc_tweets.shape)   # (nrows, ncols)\n",
    "print(df_rbc_tweets.names)   # column names"
   ]
  },
  {
   "cell_type": "markdown",
   "metadata": {},
   "source": [
    "### 1.3 - Preliminary Data Cleaning & Manipulation"
   ]
  },
  {
   "cell_type": "markdown",
   "metadata": {},
   "source": [
    "#### Subsetting the table & renaming columns"
   ]
  },
  {
   "cell_type": "code",
   "execution_count": 34,
   "metadata": {
    "collapsed": false,
    "inputHidden": false,
    "outputHidden": false
   },
   "outputs": [],
   "source": [
    "x = [9, 10, 0, 1, 8, 14]\n",
    "rbc_appreviews = df_rbc_reviews[:, x]\n",
    "rbc_appreviews.names = {'App Store': 'Platform', 'Translated Body': 'Review', 'Author': 'User', 'Rating': 'Rating / Likes'}"
   ]
  },
  {
   "cell_type": "markdown",
   "metadata": {},
   "source": [
    "#### Converting into a dataframe and then converting Date 'object' to Date 'datetime'"
   ]
  },
  {
   "cell_type": "code",
   "execution_count": 35,
   "metadata": {},
   "outputs": [
    {
     "data": {
      "text/html": [
       "<div>\n",
       "<style scoped>\n",
       "    .dataframe tbody tr th:only-of-type {\n",
       "        vertical-align: middle;\n",
       "    }\n",
       "\n",
       "    .dataframe tbody tr th {\n",
       "        vertical-align: top;\n",
       "    }\n",
       "\n",
       "    .dataframe thead th {\n",
       "        text-align: right;\n",
       "    }\n",
       "</style>\n",
       "<table border=\"1\" class=\"dataframe\">\n",
       "  <thead>\n",
       "    <tr style=\"text-align: right;\">\n",
       "      <th></th>\n",
       "      <th>Date</th>\n",
       "      <th>User</th>\n",
       "      <th>App Name</th>\n",
       "      <th>Platform</th>\n",
       "      <th>Rating / Likes</th>\n",
       "      <th>Review</th>\n",
       "    </tr>\n",
       "  </thead>\n",
       "  <tbody>\n",
       "    <tr>\n",
       "      <th>0</th>\n",
       "      <td>2019-03-21</td>\n",
       "      <td>Nick Brunet</td>\n",
       "      <td>RBC Mobile</td>\n",
       "      <td>Google Play</td>\n",
       "      <td>1</td>\n",
       "      <td>app crash on startup Android Q can't login...</td>\n",
       "    </tr>\n",
       "    <tr>\n",
       "      <th>1</th>\n",
       "      <td>2019-03-21</td>\n",
       "      <td>Samuel Duval</td>\n",
       "      <td>RBC Mobile</td>\n",
       "      <td>Google Play</td>\n",
       "      <td>5</td>\n",
       "      <td>Since I installed Android 10 my application st...</td>\n",
       "    </tr>\n",
       "    <tr>\n",
       "      <th>2</th>\n",
       "      <td>2019-03-21</td>\n",
       "      <td>MarcPlays - Roblox and more</td>\n",
       "      <td>RBC Mobile</td>\n",
       "      <td>Google Play</td>\n",
       "      <td>1</td>\n",
       "      <td>I can't start a mobile chat.</td>\n",
       "    </tr>\n",
       "  </tbody>\n",
       "</table>\n",
       "</div>"
      ],
      "text/plain": [
       "        Date                         User    App Name     Platform  \\\n",
       "0 2019-03-21                  Nick Brunet  RBC Mobile  Google Play   \n",
       "1 2019-03-21                 Samuel Duval  RBC Mobile  Google Play   \n",
       "2 2019-03-21  MarcPlays - Roblox and more  RBC Mobile  Google Play   \n",
       "\n",
       "   Rating / Likes                                             Review  \n",
       "0               1      app crash on startup Android Q can't login...  \n",
       "1               5  Since I installed Android 10 my application st...  \n",
       "2               1                       I can't start a mobile chat.  "
      ]
     },
     "execution_count": 35,
     "metadata": {},
     "output_type": "execute_result"
    }
   ],
   "source": [
    "rbc_appreviews = rbc_appreviews.to_pandas()\n",
    "rbc_appreviews['Date'] = pd.to_datetime(rbc_appreviews['Date'])\n",
    "rbc_appreviews.head(3)"
   ]
  },
  {
   "cell_type": "markdown",
   "metadata": {},
   "source": [
    "#### Subsetting the table & renaming columns"
   ]
  },
  {
   "cell_type": "code",
   "execution_count": 36,
   "metadata": {},
   "outputs": [],
   "source": [
    "y = [3, 0, 11, 10, 5, 8]\n",
    "rbc_tweets = df_rbc_tweets[:, y]\n",
    "rbc_tweets.names = {'timestamp': 'Date', 'user': 'User', 'text': 'Review', 'likes': 'Rating / Likes'}"
   ]
  },
  {
   "cell_type": "markdown",
   "metadata": {},
   "source": [
    "#### Converting into a dataframe and then converting Timestamp 'object' to Date 'datetime'"
   ]
  },
  {
   "cell_type": "code",
   "execution_count": 37,
   "metadata": {},
   "outputs": [
    {
     "data": {
      "text/html": [
       "<div>\n",
       "<style scoped>\n",
       "    .dataframe tbody tr th:only-of-type {\n",
       "        vertical-align: middle;\n",
       "    }\n",
       "\n",
       "    .dataframe tbody tr th {\n",
       "        vertical-align: top;\n",
       "    }\n",
       "\n",
       "    .dataframe thead th {\n",
       "        text-align: right;\n",
       "    }\n",
       "</style>\n",
       "<table border=\"1\" class=\"dataframe\">\n",
       "  <thead>\n",
       "    <tr style=\"text-align: right;\">\n",
       "      <th></th>\n",
       "      <th>Date</th>\n",
       "      <th>User</th>\n",
       "      <th>App Name</th>\n",
       "      <th>Platform</th>\n",
       "      <th>Rating / Likes</th>\n",
       "      <th>Review</th>\n",
       "    </tr>\n",
       "  </thead>\n",
       "  <tbody>\n",
       "    <tr>\n",
       "      <th>0</th>\n",
       "      <td>2009-06-01</td>\n",
       "      <td>CarolynnLacasse</td>\n",
       "      <td>RBC</td>\n",
       "      <td>Twitter</td>\n",
       "      <td>0</td>\n",
       "      <td>my family has been with @RBC for 2 generations...</td>\n",
       "    </tr>\n",
       "    <tr>\n",
       "      <th>1</th>\n",
       "      <td>2009-05-30</td>\n",
       "      <td>sltrunzo</td>\n",
       "      <td>RBC</td>\n",
       "      <td>Twitter</td>\n",
       "      <td>0</td>\n",
       "      <td>Elmo Live @RBC!</td>\n",
       "    </tr>\n",
       "    <tr>\n",
       "      <th>2</th>\n",
       "      <td>2009-05-29</td>\n",
       "      <td>Nettoyeurs_Exp</td>\n",
       "      <td>RBC</td>\n",
       "      <td>Twitter</td>\n",
       "      <td>0</td>\n",
       "      <td>@RBC so let us know if you have a montreal off...</td>\n",
       "    </tr>\n",
       "  </tbody>\n",
       "</table>\n",
       "</div>"
      ],
      "text/plain": [
       "        Date             User App Name Platform  Rating / Likes  \\\n",
       "0 2009-06-01  CarolynnLacasse      RBC  Twitter               0   \n",
       "1 2009-05-30         sltrunzo      RBC  Twitter               0   \n",
       "2 2009-05-29   Nettoyeurs_Exp      RBC  Twitter               0   \n",
       "\n",
       "                                              Review  \n",
       "0  my family has been with @RBC for 2 generations...  \n",
       "1                                    Elmo Live @RBC!  \n",
       "2  @RBC so let us know if you have a montreal off...  "
      ]
     },
     "execution_count": 37,
     "metadata": {},
     "output_type": "execute_result"
    }
   ],
   "source": [
    "rbc_tweets = rbc_tweets.to_pandas()\n",
    "rbc_tweets['Date'] = pd.to_datetime(rbc_tweets['Date']).dt.normalize()\n",
    "rbc_tweets.head(3)"
   ]
  },
  {
   "cell_type": "markdown",
   "metadata": {},
   "source": [
    "#### Dropping all users that have 'RBC' in their username. As we are interested only in clients and not the bank's response or adverts."
   ]
  },
  {
   "cell_type": "code",
   "execution_count": 38,
   "metadata": {},
   "outputs": [],
   "source": [
    "rbc_tweets = rbc_tweets[~rbc_tweets.User.str.contains(\"RBC\", na=False)]"
   ]
  },
  {
   "cell_type": "markdown",
   "metadata": {},
   "source": [
    "### 1.3 - Combining App Reviews & Twitter Reviews into one dataframe"
   ]
  },
  {
   "cell_type": "code",
   "execution_count": 39,
   "metadata": {},
   "outputs": [],
   "source": [
    "df_main = rbc_appreviews.append(rbc_tweets)"
   ]
  },
  {
   "cell_type": "code",
   "execution_count": 40,
   "metadata": {},
   "outputs": [],
   "source": [
    "df_main['Year'] = df_main['Date'].dt.year\n",
    "df_main['Month'] = df_main['Date'].dt.month\n",
    "df_main['Day'] = df_main['Date'].dt.day"
   ]
  },
  {
   "cell_type": "code",
   "execution_count": 41,
   "metadata": {},
   "outputs": [
    {
     "data": {
      "text/html": [
       "<div>\n",
       "<style scoped>\n",
       "    .dataframe tbody tr th:only-of-type {\n",
       "        vertical-align: middle;\n",
       "    }\n",
       "\n",
       "    .dataframe tbody tr th {\n",
       "        vertical-align: top;\n",
       "    }\n",
       "\n",
       "    .dataframe thead th {\n",
       "        text-align: right;\n",
       "    }\n",
       "</style>\n",
       "<table border=\"1\" class=\"dataframe\">\n",
       "  <thead>\n",
       "    <tr style=\"text-align: right;\">\n",
       "      <th></th>\n",
       "      <th>Date</th>\n",
       "      <th>User</th>\n",
       "      <th>App Name</th>\n",
       "      <th>Platform</th>\n",
       "      <th>Rating / Likes</th>\n",
       "      <th>Review</th>\n",
       "      <th>Year</th>\n",
       "      <th>Month</th>\n",
       "      <th>Day</th>\n",
       "    </tr>\n",
       "  </thead>\n",
       "  <tbody>\n",
       "    <tr>\n",
       "      <th>67141</th>\n",
       "      <td>2015-05-05</td>\n",
       "      <td>YoungerGolf</td>\n",
       "      <td>RBC</td>\n",
       "      <td>Twitter</td>\n",
       "      <td>0</td>\n",
       "      <td>Breaking:  @RBC addition to #TeamRBC\\n@RyanPal...</td>\n",
       "      <td>2015</td>\n",
       "      <td>5</td>\n",
       "      <td>5</td>\n",
       "    </tr>\n",
       "    <tr>\n",
       "      <th>114062</th>\n",
       "      <td>2018-04-03</td>\n",
       "      <td>vivoteams</td>\n",
       "      <td>RBC</td>\n",
       "      <td>Twitter</td>\n",
       "      <td>3</td>\n",
       "      <td>Thanks to @raisecollective, our CEO Renée Safr...</td>\n",
       "      <td>2018</td>\n",
       "      <td>4</td>\n",
       "      <td>3</td>\n",
       "    </tr>\n",
       "    <tr>\n",
       "      <th>91636</th>\n",
       "      <td>2018-01-04</td>\n",
       "      <td>leste88</td>\n",
       "      <td>RBC</td>\n",
       "      <td>Twitter</td>\n",
       "      <td>0</td>\n",
       "      <td>Can't even tell if trades were placed as they ...</td>\n",
       "      <td>2018</td>\n",
       "      <td>1</td>\n",
       "      <td>4</td>\n",
       "    </tr>\n",
       "    <tr>\n",
       "      <th>128355</th>\n",
       "      <td>2018-10-31</td>\n",
       "      <td>R_M27</td>\n",
       "      <td>RBC</td>\n",
       "      <td>Twitter</td>\n",
       "      <td>0</td>\n",
       "      <td>Lol \"yet\". \\n\\nI'd hope this doesnt make them ...</td>\n",
       "      <td>2018</td>\n",
       "      <td>10</td>\n",
       "      <td>31</td>\n",
       "    </tr>\n",
       "    <tr>\n",
       "      <th>101647</th>\n",
       "      <td>2018-09-12</td>\n",
       "      <td>MaryD_WEtv</td>\n",
       "      <td>RBC</td>\n",
       "      <td>Twitter</td>\n",
       "      <td>0</td>\n",
       "      <td>@RBC what’s with the employee at every branch ...</td>\n",
       "      <td>2018</td>\n",
       "      <td>9</td>\n",
       "      <td>12</td>\n",
       "    </tr>\n",
       "  </tbody>\n",
       "</table>\n",
       "</div>"
      ],
      "text/plain": [
       "             Date         User App Name Platform  Rating / Likes  \\\n",
       "67141  2015-05-05  YoungerGolf      RBC  Twitter               0   \n",
       "114062 2018-04-03    vivoteams      RBC  Twitter               3   \n",
       "91636  2018-01-04      leste88      RBC  Twitter               0   \n",
       "128355 2018-10-31        R_M27      RBC  Twitter               0   \n",
       "101647 2018-09-12   MaryD_WEtv      RBC  Twitter               0   \n",
       "\n",
       "                                                   Review  Year  Month  Day  \n",
       "67141   Breaking:  @RBC addition to #TeamRBC\\n@RyanPal...  2015      5    5  \n",
       "114062  Thanks to @raisecollective, our CEO Renée Safr...  2018      4    3  \n",
       "91636   Can't even tell if trades were placed as they ...  2018      1    4  \n",
       "128355  Lol \"yet\". \\n\\nI'd hope this doesnt make them ...  2018     10   31  \n",
       "101647  @RBC what’s with the employee at every branch ...  2018      9   12  "
      ]
     },
     "execution_count": 41,
     "metadata": {},
     "output_type": "execute_result"
    }
   ],
   "source": [
    "df_main.sample(5)"
   ]
  },
  {
   "cell_type": "code",
   "execution_count": 42,
   "metadata": {},
   "outputs": [
    {
     "data": {
      "image/png": "[encoded data removed]",
      "text/plain": [
       "<Figure size 1008x576 with 1 Axes>"
      ]
     },
     "metadata": {
      "needs_background": "light"
     },
     "output_type": "display_data"
    }
   ],
   "source": [
    "fig, axes = plt.subplots(ncols=1, figsize=(14, 8))\n",
    "df_main.Year.value_counts().sort_index().plot.bar(title='Reviews per Year');"
   ]
  },
  {
   "cell_type": "code",
   "execution_count": null,
   "metadata": {},
   "outputs": [],
   "source": []
  }
 ],
 "metadata": {
  "kernel_info": {
   "name": "python3"
  },
  "kernelspec": {
   "display_name": "Python 3",
   "language": "python",
   "name": "python3"
  },
  "language_info": {
   "codemirror_mode": {
    "name": "ipython",
    "version": 3
   },
   "file_extension": ".py",
   "mimetype": "text/x-python",
   "name": "python",
   "nbconvert_exporter": "python",
   "pygments_lexer": "ipython3",
   "version": "3.7.1"
  },
  "nteract": {
   "version": "0.12.3"
  }
 },
 "nbformat": 4,
 "nbformat_minor": 4
}
