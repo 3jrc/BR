{
 "cells": [
  {
   "cell_type": "code",
   "execution_count": 28,
   "metadata": {},
   "outputs": [],
   "source": [
    "# Load packages\n",
    "import numpy as np\n",
    "import pandas as pd\n",
    "from datetime import datetime\n",
    "import datetime as dt\n",
    "from twitterscraper import query_tweets"
   ]
  },
  {
   "cell_type": "markdown",
   "metadata": {},
   "source": [
    "# 1. Querying Tweets"
   ]
  },
  {
   "cell_type": "code",
   "execution_count": 34,
   "metadata": {},
   "outputs": [
    {
     "name": "stderr",
     "output_type": "stream",
     "text": [
      "INFO: queries: ['@bmo since:2019-01-01 until:2019-01-13', '@bmo since:2019-01-13 until:2019-01-26', '@bmo since:2019-01-26 until:2019-02-07', '@bmo since:2019-02-07 until:2019-02-20', '@bmo since:2019-02-20 until:2019-03-05', '@bmo since:2019-03-05 until:2019-03-17', '@bmo since:2019-03-17 until:2019-03-30', '@bmo since:2019-03-30 until:2019-04-12', '@bmo since:2019-04-12 until:2019-04-24', '@bmo since:2019-04-24 until:2019-05-07', '@bmo since:2019-05-07 until:2019-05-20', '@bmo since:2019-05-20 until:2019-06-01', '@bmo since:2019-06-01 until:2019-06-14', '@bmo since:2019-06-14 until:2019-06-27', '@bmo since:2019-06-27 until:2019-07-09', '@bmo since:2019-07-09 until:2019-07-22', '@bmo since:2019-07-22 until:2019-08-04', '@bmo since:2019-08-04 until:2019-08-16', '@bmo since:2019-08-16 until:2019-08-29', '@bmo since:2019-08-29 until:2019-09-11']\n",
      "INFO: Got 500 tweets (500 new).\n",
      "INFO: Got 962 tweets (462 new).\n",
      "INFO: Got 1464 tweets (502 new).\n",
      "INFO: Got 2026 tweets (562 new).\n",
      "INFO: Got 2583 tweets (557 new).\n",
      "INFO: Got 3138 tweets (555 new).\n",
      "INFO: Got 3817 tweets (679 new).\n",
      "INFO: Got 4512 tweets (695 new).\n",
      "INFO: Got 5232 tweets (720 new).\n",
      "INFO: Got 5949 tweets (717 new).\n",
      "INFO: Got 6714 tweets (765 new).\n",
      "INFO: Got 7523 tweets (809 new).\n",
      "INFO: Got 8394 tweets (871 new).\n",
      "INFO: Got 9306 tweets (912 new).\n",
      "INFO: Got 10218 tweets (912 new).\n",
      "INFO: Got 11296 tweets (1078 new).\n",
      "INFO: Got 12307 tweets (1011 new).\n",
      "INFO: Got 13290 tweets (983 new).\n",
      "INFO: Got 14298 tweets (1008 new).\n",
      "INFO: Got 15450 tweets (1152 new).\n"
     ]
    },
    {
     "name": "stdout",
     "output_type": "stream",
     "text": [
      "--Querying Ended--\n"
     ]
    }
   ],
   "source": [
    "# Set up date range for the extraction\n",
    "begindate = dt.date(2019,1,1)\n",
    "enddate = dt.date.today() - dt.timedelta(days=1)\n",
    "\n",
    "# Querying tweets using twitterscraper's query_tweets\n",
    "# Query_tweets function:\n",
    "'''\n",
    "query_tweets(query = args.query, limit = args.limit,\n",
    "                              begindate = args.begindate, enddate = args.enddate,\n",
    "                              poolsize = args.poolsize, lang = args.lang)\n",
    "'''\n",
    "\n",
    "list_of_tweets = query_tweets(\"@bmo\", limit = None, begindate = begindate, enddate = enddate, lang='en')\n",
    "list_of_encoded_tweets = [] # create empty list to save multiple tweets which is type of dictionary\n",
    "\n",
    "for tweets in list_of_tweets:\n",
    "    tweets.timestamp = dt.datetime.strftime(tweets.timestamp, '%Y-%m-%d %H:%M:%S')\n",
    "    list_of_encoded_tweets.append(vars(tweets))\n",
    "\n",
    "print('--Querying Ended--')"
   ]
  },
  {
   "cell_type": "code",
   "execution_count": 49,
   "metadata": {},
   "outputs": [],
   "source": [
    "# save output as df \n",
    "\n",
    "list_tweets = [list(elem.values()) for elem in list_of_encoded_tweets]\n",
    "list_columns = list(list_of_encoded_tweets[0].keys())\n",
    "df_bmo_tweets = pd.DataFrame(list_tweets, columns = list_columns)"
   ]
  },
  {
   "cell_type": "markdown",
   "metadata": {},
   "source": [
    "# 2. Data Preprocessing\n",
    "## 2.1 Consolidate Dataset"
   ]
  },
  {
   "cell_type": "code",
   "execution_count": 50,
   "metadata": {},
   "outputs": [
    {
     "name": "stdout",
     "output_type": "stream",
     "text": [
      "         username        fullname              user_id             tweet_id  \\\n",
      "0             BMO             BMO            222249603  1157761988640067586   \n",
      "1   eleanorbeaton  Eleanor Beaton            227334930  1157751756039868416   \n",
      "2  CalgaryBluesky  CalgaryBluesky  1154477958574137344  1157750150183264256   \n",
      "3        karun_f7  Karun Mittal 👻            542400049  1157715685965008896   \n",
      "4             BMO             BMO            222249603  1157694145319899136   \n",
      "\n",
      "                                    tweet_url            timestamp  \\\n",
      "0             /BMO/status/1157761988640067586  2019-08-03 21:15:42   \n",
      "1   /eleanorbeaton/status/1157751756039868416  2019-08-03 20:35:03   \n",
      "2  /CalgaryBluesky/status/1157750150183264256  2019-08-03 20:28:40   \n",
      "3        /karun_f7/status/1157715685965008896  2019-08-03 18:11:43   \n",
      "4             /BMO/status/1157694145319899136  2019-08-03 16:46:07   \n",
      "\n",
      "   timestamp_epochs  replies  retweets  likes  is_retweet retweeter_username  \\\n",
      "0        1564866942        0         0      0           0                      \n",
      "1        1564864503        1         0      1           0                      \n",
      "2        1564864120        0         0      0           0                      \n",
      "3        1564855903        0         1      2           0                      \n",
      "4        1564850767        0         0      0           0                      \n",
      "\n",
      "  retweeter_userid retweet_id  \\\n",
      "0                               \n",
      "1                               \n",
      "2                               \n",
      "3                               \n",
      "4                               \n",
      "\n",
      "                                                text  \\\n",
      "0  Thank you Eleanor! It's such an honor for us. ^RJ   \n",
      "1  On this EP  of  #FFL @_jeneroux offers tips fo...   \n",
      "2  I'm not always in a rush or that impatient. Th...   \n",
      "3  Iron ore prices are down sharply in China, par...   \n",
      "4  You would need to visit a BMO ATM with your te...   \n",
      "\n",
      "                                                html  \n",
      "0  <p class=\"TweetTextSize js-tweet-text tweet-te...  \n",
      "1  <p class=\"TweetTextSize js-tweet-text tweet-te...  \n",
      "2  <p class=\"TweetTextSize js-tweet-text tweet-te...  \n",
      "3  <p class=\"TweetTextSize js-tweet-text tweet-te...  \n",
      "4  <p class=\"TweetTextSize js-tweet-text tweet-te...  \n"
     ]
    }
   ],
   "source": [
    "# Load previously saved CIBC tweets and app reviews\n",
    "#df_tweets = pd.read_csv(r'bmo_tweets.csv',encoding='iso-8859-1')\n",
    "print(df_bmo_tweets.head())"
   ]
  },
  {
   "cell_type": "code",
   "execution_count": 55,
   "metadata": {},
   "outputs": [],
   "source": [
    "# rename the columns\n",
    "df_bmo_tweets=df_bmo_tweets.rename(index=str, columns={'timestamp':'Date','fullname':'User','likes':'Rating/Likes','text':'Review'})"
   ]
  },
  {
   "cell_type": "code",
   "execution_count": 57,
   "metadata": {},
   "outputs": [
    {
     "name": "stdout",
     "output_type": "stream",
     "text": [
      "                  Date            User  Rating/Likes  \\\n",
      "0  2019-08-03 21:15:42             BMO             0   \n",
      "1  2019-08-03 20:35:03  Eleanor Beaton             1   \n",
      "2  2019-08-03 20:28:40  CalgaryBluesky             0   \n",
      "3  2019-08-03 18:11:43  Karun Mittal 👻             2   \n",
      "4  2019-08-03 16:46:07             BMO             0   \n",
      "5  2019-08-03 16:35:04     Master Yoda             0   \n",
      "6  2019-08-03 16:17:41      DaveMurYYC             0   \n",
      "7  2019-08-03 16:15:54             BMO             0   \n",
      "8  2019-08-03 15:53:58      DaveMurYYC             0   \n",
      "9  2019-08-03 15:18:34       Clearbanc             0   \n",
      "\n",
      "                                              Review  \n",
      "0  Thank you Eleanor! It's such an honor for us. ^RJ  \n",
      "1  On this EP  of  #FFL @_jeneroux offers tips fo...  \n",
      "2  I'm not always in a rush or that impatient. Th...  \n",
      "3  Iron ore prices are down sharply in China, par...  \n",
      "4  You would need to visit a BMO ATM with your te...  \n",
      "5  I don’t have the temp pin with me currently. I...  \n",
      "6  He messaged me at 0948 and I responded still w...  \n",
      "7  Hello Dave! That is certainly not the experien...  \n",
      "8  I was in a online chat with @BMO agent and aft...  \n",
      "9  Hi Clearbanc here! If you’re looking for fast,...  \n",
      "\n",
      "Total Number of Original Tweets: 15450\n",
      "\n"
     ]
    }
   ],
   "source": [
    "# Keep the timestamp and text columns\n",
    "df_tweets_cleaned = df_bmo_tweets[['Date','User','Rating/Likes','Review']]\n",
    "print(df_tweets_cleaned.head(10))\n",
    "print('\\nTotal Number of Original Tweets: {}\\n'.format(len(df_tweets_cleaned)))"
   ]
  },
  {
   "cell_type": "code",
   "execution_count": 58,
   "metadata": {},
   "outputs": [
    {
     "name": "stdout",
     "output_type": "stream",
     "text": [
      "                  Date            User  Rating/Likes  \\\n",
      "0  2019-08-03 21:15:42             BMO             0   \n",
      "1  2019-08-03 20:35:03  Eleanor Beaton             1   \n",
      "2  2019-08-03 20:28:40  CalgaryBluesky             0   \n",
      "3  2019-08-03 18:11:43  Karun Mittal 👻             2   \n",
      "4  2019-08-03 16:46:07             BMO             0   \n",
      "5  2019-08-03 16:35:04     Master Yoda             0   \n",
      "6  2019-08-03 16:17:41      DaveMurYYC             0   \n",
      "7  2019-08-03 16:15:54             BMO             0   \n",
      "8  2019-08-03 15:53:58      DaveMurYYC             0   \n",
      "9  2019-08-03 15:18:34       Clearbanc             0   \n",
      "\n",
      "                                              Review  \n",
      "0  thank you eleanor! it's such an honor for us. ^rj  \n",
      "1  on this ep  of  #ffl @_jeneroux offers tips fo...  \n",
      "2  i'm not always in a rush or that impatient. th...  \n",
      "3  iron ore prices are down sharply in china, par...  \n",
      "4  you would need to visit a bmo atm with your te...  \n",
      "5  i don’t have the temp pin with me currently. i...  \n",
      "6  he messaged me at 0948 and i responded still w...  \n",
      "7  hello dave! that is certainly not the experien...  \n",
      "8  i was in a online chat with @bmo agent and aft...  \n",
      "9  hi clearbanc here! if you’re looking for fast,...  \n"
     ]
    },
    {
     "name": "stderr",
     "output_type": "stream",
     "text": [
      "C:\\Users\\rio.w\\AppData\\Local\\Continuum\\anaconda3\\envs\\BR\\lib\\site-packages\\ipykernel_launcher.py:2: SettingWithCopyWarning: \n",
      "A value is trying to be set on a copy of a slice from a DataFrame.\n",
      "Try using .loc[row_indexer,col_indexer] = value instead\n",
      "\n",
      "See the caveats in the documentation: http://pandas.pydata.org/pandas-docs/stable/indexing.html#indexing-view-versus-copy\n",
      "  \n"
     ]
    }
   ],
   "source": [
    "# Convert them to lowercase\n",
    "df_tweets_cleaned['Review'] = df_tweets_cleaned['Review'].str.lower()\n",
    "print(df_tweets_cleaned.head(10))"
   ]
  },
  {
   "cell_type": "code",
   "execution_count": 60,
   "metadata": {},
   "outputs": [
    {
     "name": "stdout",
     "output_type": "stream",
     "text": [
      "                   Date              User  Rating/Likes  \\\n",
      "0   2019-08-03 21:15:42               BMO             0   \n",
      "1   2019-08-03 20:35:03    Eleanor Beaton             1   \n",
      "2   2019-08-03 20:28:40    CalgaryBluesky             0   \n",
      "3   2019-08-03 18:11:43    Karun Mittal 👻             2   \n",
      "4   2019-08-03 16:46:07               BMO             0   \n",
      "5   2019-08-03 16:35:04       Master Yoda             0   \n",
      "6   2019-08-03 16:17:41        DaveMurYYC             0   \n",
      "7   2019-08-03 16:15:54               BMO             0   \n",
      "8   2019-08-03 15:53:58        DaveMurYYC             0   \n",
      "9   2019-08-03 15:18:34         Clearbanc             0   \n",
      "10  2019-08-03 15:06:33               BMO             0   \n",
      "11  2019-08-03 15:03:52               BMO             1   \n",
      "12  2019-08-03 15:03:33       Master Yoda             0   \n",
      "13  2019-08-03 14:56:09         Daniela V             2   \n",
      "14  2019-08-03 13:29:17               BMO             0   \n",
      "15  2019-08-03 13:17:50  Sarah Jane Wolch             0   \n",
      "16  2019-08-03 13:01:22             VIPIN             1   \n",
      "17  2019-08-03 07:15:11               BMO             0   \n",
      "18  2019-08-03 06:51:27       Justin Case             0   \n",
      "19  2019-08-03 05:23:35               BMO             0   \n",
      "\n",
      "                                               Review  \n",
      "0   thank you eleanor! it's such an honor for us. ^rj  \n",
      "1   on this ep  of  #ffl @_jeneroux offers tips fo...  \n",
      "2   i'm not always in a rush or that impatient. th...  \n",
      "3   iron ore prices are down sharply in china, par...  \n",
      "4   you would need to visit a bmo atm with your te...  \n",
      "5   i don’t have the temp pin with me currently. i...  \n",
      "6   he messaged me at 0948 and i responded still w...  \n",
      "7   hello dave! that is certainly not the experien...  \n",
      "8   i was in a online chat with @bmo agent and aft...  \n",
      "9   hi clearbanc here! if you’re looking for fast,...  \n",
      "10  hello, there. i'm ryan. can i ask if you have ...  \n",
      "11  we are happy that we could be exactly what you...  \n",
      "12  @bmo how do i set the pin to my credit card th...  \n",
      "13  ok the staff at @bmo on 4th and national rock!...  \n",
      "14  hello sarah. i'm extremely sorry for the error...  \n",
      "15  @bmo my 87yr grandmother went to cash travelle...  \n",
      "16  west toronto collegiate principal myrna d math...  \n",
      "17  hello justin! i am sorry about the hold period...  \n",
      "18  @bmo so frustrating! doesnt matter when a pers...  \n",
      "19  hello cameron! thank you for your feedback. i ...  \n",
      "\n",
      "Total Number of De-duplicated Tweets: 14721\n",
      "\n"
     ]
    }
   ],
   "source": [
    "# Remove duplicates\n",
    "df_tweets_cleaned = df_tweets_cleaned.drop_duplicates(subset=['Review'])\n",
    "print(df_tweets_cleaned.head(20))\n",
    "print('\\nTotal Number of De-duplicated Tweets: {}\\n'.format(len(df_tweets_cleaned)))"
   ]
  },
  {
   "cell_type": "code",
   "execution_count": 61,
   "metadata": {},
   "outputs": [
    {
     "name": "stdout",
     "output_type": "stream",
     "text": [
      "\n",
      "Total Number of De-duplicated Tweets that contain 'bmo': 8569\n",
      "\n"
     ]
    }
   ],
   "source": [
    "# Keep tweets that contain 'bmo'\n",
    "df_tweets_cleaned = df_tweets_cleaned[df_tweets_cleaned['Review'].str.contains('bmo')]\n",
    "print('\\nTotal Number of De-duplicated Tweets that contain \\'bmo\\': {}\\n'.format(len(df_tweets_cleaned)))"
   ]
  },
  {
   "cell_type": "code",
   "execution_count": 63,
   "metadata": {},
   "outputs": [],
   "source": [
    "# Format the timestamp to date\n",
    "df_tweets_cleaned['Date'] = [datetime.strptime(d[:10], '%Y-%m-%d').date() for d in df_tweets_cleaned['Date']]"
   ]
  },
  {
   "cell_type": "code",
   "execution_count": 64,
   "metadata": {},
   "outputs": [
    {
     "data": {
      "text/html": [
       "<div>\n",
       "<style scoped>\n",
       "    .dataframe tbody tr th:only-of-type {\n",
       "        vertical-align: middle;\n",
       "    }\n",
       "\n",
       "    .dataframe tbody tr th {\n",
       "        vertical-align: top;\n",
       "    }\n",
       "\n",
       "    .dataframe thead th {\n",
       "        text-align: right;\n",
       "    }\n",
       "</style>\n",
       "<table border=\"1\" class=\"dataframe\">\n",
       "  <thead>\n",
       "    <tr style=\"text-align: right;\">\n",
       "      <th></th>\n",
       "      <th>Date</th>\n",
       "      <th>User</th>\n",
       "      <th>Rating/Likes</th>\n",
       "      <th>Review</th>\n",
       "    </tr>\n",
       "  </thead>\n",
       "  <tbody>\n",
       "    <tr>\n",
       "      <th>1</th>\n",
       "      <td>2019-08-03</td>\n",
       "      <td>Eleanor Beaton</td>\n",
       "      <td>1</td>\n",
       "      <td>on this ep  of  #ffl @_jeneroux offers tips fo...</td>\n",
       "    </tr>\n",
       "    <tr>\n",
       "      <th>2</th>\n",
       "      <td>2019-08-03</td>\n",
       "      <td>CalgaryBluesky</td>\n",
       "      <td>0</td>\n",
       "      <td>i'm not always in a rush or that impatient. th...</td>\n",
       "    </tr>\n",
       "    <tr>\n",
       "      <th>3</th>\n",
       "      <td>2019-08-03</td>\n",
       "      <td>Karun Mittal 👻</td>\n",
       "      <td>2</td>\n",
       "      <td>iron ore prices are down sharply in china, par...</td>\n",
       "    </tr>\n",
       "    <tr>\n",
       "      <th>4</th>\n",
       "      <td>2019-08-03</td>\n",
       "      <td>BMO</td>\n",
       "      <td>0</td>\n",
       "      <td>you would need to visit a bmo atm with your te...</td>\n",
       "    </tr>\n",
       "    <tr>\n",
       "      <th>8</th>\n",
       "      <td>2019-08-03</td>\n",
       "      <td>DaveMurYYC</td>\n",
       "      <td>0</td>\n",
       "      <td>i was in a online chat with @bmo agent and aft...</td>\n",
       "    </tr>\n",
       "    <tr>\n",
       "      <th>12</th>\n",
       "      <td>2019-08-03</td>\n",
       "      <td>Master Yoda</td>\n",
       "      <td>0</td>\n",
       "      <td>@bmo how do i set the pin to my credit card th...</td>\n",
       "    </tr>\n",
       "    <tr>\n",
       "      <th>13</th>\n",
       "      <td>2019-08-03</td>\n",
       "      <td>Daniela V</td>\n",
       "      <td>2</td>\n",
       "      <td>ok the staff at @bmo on 4th and national rock!...</td>\n",
       "    </tr>\n",
       "    <tr>\n",
       "      <th>15</th>\n",
       "      <td>2019-08-03</td>\n",
       "      <td>Sarah Jane Wolch</td>\n",
       "      <td>0</td>\n",
       "      <td>@bmo my 87yr grandmother went to cash travelle...</td>\n",
       "    </tr>\n",
       "    <tr>\n",
       "      <th>18</th>\n",
       "      <td>2019-08-03</td>\n",
       "      <td>Justin Case</td>\n",
       "      <td>0</td>\n",
       "      <td>@bmo so frustrating! doesnt matter when a pers...</td>\n",
       "    </tr>\n",
       "    <tr>\n",
       "      <th>19</th>\n",
       "      <td>2019-08-03</td>\n",
       "      <td>BMO</td>\n",
       "      <td>0</td>\n",
       "      <td>hello cameron! thank you for your feedback. i ...</td>\n",
       "    </tr>\n",
       "  </tbody>\n",
       "</table>\n",
       "</div>"
      ],
      "text/plain": [
       "          Date              User  Rating/Likes  \\\n",
       "1   2019-08-03    Eleanor Beaton             1   \n",
       "2   2019-08-03    CalgaryBluesky             0   \n",
       "3   2019-08-03    Karun Mittal 👻             2   \n",
       "4   2019-08-03               BMO             0   \n",
       "8   2019-08-03        DaveMurYYC             0   \n",
       "12  2019-08-03       Master Yoda             0   \n",
       "13  2019-08-03         Daniela V             2   \n",
       "15  2019-08-03  Sarah Jane Wolch             0   \n",
       "18  2019-08-03       Justin Case             0   \n",
       "19  2019-08-03               BMO             0   \n",
       "\n",
       "                                               Review  \n",
       "1   on this ep  of  #ffl @_jeneroux offers tips fo...  \n",
       "2   i'm not always in a rush or that impatient. th...  \n",
       "3   iron ore prices are down sharply in china, par...  \n",
       "4   you would need to visit a bmo atm with your te...  \n",
       "8   i was in a online chat with @bmo agent and aft...  \n",
       "12  @bmo how do i set the pin to my credit card th...  \n",
       "13  ok the staff at @bmo on 4th and national rock!...  \n",
       "15  @bmo my 87yr grandmother went to cash travelle...  \n",
       "18  @bmo so frustrating! doesnt matter when a pers...  \n",
       "19  hello cameron! thank you for your feedback. i ...  "
      ]
     },
     "execution_count": 64,
     "metadata": {},
     "output_type": "execute_result"
    }
   ],
   "source": [
    "df_tweets_cleaned.head(n=10)"
   ]
  },
  {
   "cell_type": "code",
   "execution_count": 66,
   "metadata": {},
   "outputs": [
    {
     "name": "stdout",
     "output_type": "stream",
     "text": [
      "\n",
      "Total Number after dropping BMO reply: 7785\n",
      "\n"
     ]
    }
   ],
   "source": [
    "# dropping all users that have 'BMO' in their username as we are interested only in clients and not bank's responses.\n",
    "df_tweets_cleaned = df_tweets_cleaned[~df_tweets_cleaned.User.str.contains('BMO', na = False)]\n",
    "print('\\nTotal Number after dropping BMO reply: {}\\n'.format(len(df_tweets_cleaned)))"
   ]
  },
  {
   "cell_type": "code",
   "execution_count": 67,
   "metadata": {},
   "outputs": [
    {
     "data": {
      "text/plain": [
       "Date            0\n",
       "User            0\n",
       "Rating/Likes    0\n",
       "Review          0\n",
       "dtype: int64"
      ]
     },
     "execution_count": 67,
     "metadata": {},
     "output_type": "execute_result"
    }
   ],
   "source": [
    "# check NaN\n",
    "df_tweets_cleaned.isna().sum()"
   ]
  },
  {
   "cell_type": "code",
   "execution_count": 69,
   "metadata": {},
   "outputs": [],
   "source": [
    "#save as csv\n",
    "df_tweets_cleaned.to_csv(r'bmo_consolidated.csv', index=False)"
   ]
  },
  {
   "cell_type": "code",
   "execution_count": null,
   "metadata": {},
   "outputs": [],
   "source": []
  }
 ],
 "metadata": {
  "kernelspec": {
   "display_name": "Python 3",
   "language": "python",
   "name": "python3"
  },
  "language_info": {
   "codemirror_mode": {
    "name": "ipython",
    "version": 3
   },
   "file_extension": ".py",
   "mimetype": "text/x-python",
   "name": "python",
   "nbconvert_exporter": "python",
   "pygments_lexer": "ipython3",
   "version": "3.7.4"
  }
 },
 "nbformat": 4,
 "nbformat_minor": 2
}
