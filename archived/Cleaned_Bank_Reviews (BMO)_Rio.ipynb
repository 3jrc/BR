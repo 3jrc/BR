{
 "cells": [
  {
   "cell_type": "markdown",
   "metadata": {},
   "source": [
    "# Cleaned_Bank_Reviews (BMO)"
   ]
  },
  {
   "cell_type": "code",
   "execution_count": 1,
   "metadata": {},
   "outputs": [],
   "source": [
    "# Load packages\n",
    "import numpy as np\n",
    "import pandas as pd\n",
    "import datatable as dt"
   ]
  },
  {
   "cell_type": "markdown",
   "metadata": {},
   "source": [
    "## Load Tweets"
   ]
  },
  {
   "cell_type": "code",
   "execution_count": 2,
   "metadata": {},
   "outputs": [
    {
     "name": "stdout",
     "output_type": "stream",
     "text": [
      "(59604, 10) (905, 10)\n"
     ]
    }
   ],
   "source": [
    "# Load previously saved BMO tweets\n",
    "df_bmo_tweets_one = pd.read_csv(r'@bmo_tweets.csv',encoding='utf-8') #keywords = \"@bmo\"\n",
    "df_bmo_tweets_two = pd.read_csv(r'bmo_AND_bank_tweets.csv',encoding='utf-8') #keywords = \"#bmo And bank\" as \"#bmo\" itself will extract irrelevant tweets\n",
    "print(df_bmo_tweets_one.shape,df_bmo_tweets_two.shape)"
   ]
  },
  {
   "cell_type": "code",
   "execution_count": 4,
   "metadata": {},
   "outputs": [
    {
     "name": "stdout",
     "output_type": "stream",
     "text": [
      "<class 'pandas.core.frame.DataFrame'>\n",
      "605090\n",
      "              user                       fullname             tweet-id  \\\n",
      "0  Tpyo9K7PUIEKlMC  อย่ามองตาได้ไหมถ้าเธอไม่หล่อ~  1098974331097378816   \n",
      "1   ltopshbottom28           ˡᵃᵘʳ  🌼 BLOCK DE SDV  1098710034173870080   \n",
      "2     Mareeeeeeech                            mr.  1098628200022847489   \n",
      "3       AnimalGG15                       Animal15  1098390118317072384   \n",
      "4       megami_901                             女神  1098628196533063680   \n",
      "\n",
      "             timestamp                                          url  likes  \\\n",
      "0  2019-02-22 15:54:33  /Tpyo9K7PUIEKlMC/status/1098974331097378816      1   \n",
      "1  2019-02-21 22:24:19   /ltopshbottom28/status/1098710034173870080      0   \n",
      "2  2019-02-21 16:59:09     /Mareeeeeeech/status/1098628200022847489      1   \n",
      "3  2019-02-21 01:13:05       /AnimalGG15/status/1098390118317072384      3   \n",
      "4  2019-02-21 16:59:08       /megami_901/status/1098628196533063680    107   \n",
      "\n",
      "   replies  retweets                                               text  \\\n",
      "0        0         2  ขอยาสเกลียสแท้กนิดนุงนะ5555 #ประยุทธ์ไม่กล้าดีเบต   \n",
      "1        0         0                                  Follow me pleasee   \n",
      "2        0         0                                                NaN   \n",
      "3        1         9  Gente!! Me ayudan con 15rt para que @z_slopy m...   \n",
      "4        3        11  鈴(りん)でちゅ\\n今からジャンプちゅるでちゆ\\n見ててくだちゃいね。pic.twitter...   \n",
      "\n",
      "                                                html  \n",
      "0  <p class=\"TweetTextSize js-tweet-text tweet-te...  \n",
      "1  <p class=\"TweetTextSize js-tweet-text tweet-te...  \n",
      "2  <p class=\"TweetTextSize js-tweet-text tweet-te...  \n",
      "3  <p class=\"TweetTextSize js-tweet-text tweet-te...  \n",
      "4  <p class=\"TweetTextSize js-tweet-text tweet-te...  \n"
     ]
    }
   ],
   "source": [
    "#combine two tweets dataframe\n",
    "df_bmo_tweets = pd.concat([df_bmo_tweets_one, df_bmo_tweets_two], ignore_index=True)\n",
    "print(type(df_bmo_tweets))\n",
    "print(df_bmo_tweets.size)\n",
    "print(df_bmo_tweets.head())"
   ]
  },
  {
   "cell_type": "markdown",
   "metadata": {},
   "source": [
    "# Why there's non English tweets???"
   ]
  },
  {
   "cell_type": "markdown",
   "metadata": {},
   "source": [
    "## Load App Reviews"
   ]
  },
  {
   "cell_type": "code",
   "execution_count": 5,
   "metadata": {},
   "outputs": [
    {
     "name": "stdout",
     "output_type": "stream",
     "text": [
      "232139\n"
     ]
    }
   ],
   "source": [
    "# Load previously saved BMO App Reviews\n",
    "df_bmo_app = pd.read_csv(r'BMO_App_Reviews.csv', encoding ='utf-8')\n",
    "print(df_bmo_app.size)"
   ]
  },
  {
   "cell_type": "code",
   "execution_count": 6,
   "metadata": {},
   "outputs": [
    {
     "name": "stdout",
     "output_type": "stream",
     "text": [
      "213118\n"
     ]
    }
   ],
   "source": [
    "#keep English reviews only\n",
    "df_bmo_app= df_bmo_app[df_bmo_app['Language'] == 'English']\n",
    "print(df_bmo_app.size)"
   ]
  },
  {
   "cell_type": "markdown",
   "metadata": {},
   "source": [
    "### select/change column names from app review"
   ]
  },
  {
   "cell_type": "code",
   "execution_count": 7,
   "metadata": {},
   "outputs": [
    {
     "data": {
      "text/html": [
       "<div>\n",
       "<style scoped>\n",
       "    .dataframe tbody tr th:only-of-type {\n",
       "        vertical-align: middle;\n",
       "    }\n",
       "\n",
       "    .dataframe tbody tr th {\n",
       "        vertical-align: top;\n",
       "    }\n",
       "\n",
       "    .dataframe thead th {\n",
       "        text-align: right;\n",
       "    }\n",
       "</style>\n",
       "<table border=\"1\" class=\"dataframe\">\n",
       "  <thead>\n",
       "    <tr style=\"text-align: right;\">\n",
       "      <th></th>\n",
       "      <th>Date</th>\n",
       "      <th>Author</th>\n",
       "      <th>App Name</th>\n",
       "      <th>App Store</th>\n",
       "      <th>Rating</th>\n",
       "      <th>Body</th>\n",
       "    </tr>\n",
       "  </thead>\n",
       "  <tbody>\n",
       "    <tr>\n",
       "      <th>0</th>\n",
       "      <td>2019-03-21</td>\n",
       "      <td>Sparrow Crandall</td>\n",
       "      <td>BMO Mobile Banking</td>\n",
       "      <td>Google Play</td>\n",
       "      <td>1</td>\n",
       "      <td>Honestly this app makes my blood boil to the p...</td>\n",
       "    </tr>\n",
       "    <tr>\n",
       "      <th>1</th>\n",
       "      <td>2019-03-21</td>\n",
       "      <td>Coconut Licious</td>\n",
       "      <td>BMO Mobile Banking</td>\n",
       "      <td>Google Play</td>\n",
       "      <td>5</td>\n",
       "      <td>Super user friendly and has everything I need</td>\n",
       "    </tr>\n",
       "    <tr>\n",
       "      <th>2</th>\n",
       "      <td>2019-03-21</td>\n",
       "      <td>Jeremiah David</td>\n",
       "      <td>BMO Mobile Banking</td>\n",
       "      <td>Google Play</td>\n",
       "      <td>5</td>\n",
       "      <td>above average excellent appt does everything I...</td>\n",
       "    </tr>\n",
       "    <tr>\n",
       "      <th>4</th>\n",
       "      <td>2019-03-20</td>\n",
       "      <td>Etienne Matuszewski</td>\n",
       "      <td>BMO Mobile Banking</td>\n",
       "      <td>Google Play</td>\n",
       "      <td>1</td>\n",
       "      <td>According to Protectstar anti-spying apps, the...</td>\n",
       "    </tr>\n",
       "    <tr>\n",
       "      <th>5</th>\n",
       "      <td>2019-03-20</td>\n",
       "      <td>Stefdax Bijou</td>\n",
       "      <td>BMO Mobile Banking</td>\n",
       "      <td>Google Play</td>\n",
       "      <td>1</td>\n",
       "      <td>Always need to have Wi-Fi to get my bank info,...</td>\n",
       "    </tr>\n",
       "  </tbody>\n",
       "</table>\n",
       "</div>"
      ],
      "text/plain": [
       "         Date               Author            App Name    App Store  Rating  \\\n",
       "0  2019-03-21     Sparrow Crandall  BMO Mobile Banking  Google Play       1   \n",
       "1  2019-03-21      Coconut Licious  BMO Mobile Banking  Google Play       5   \n",
       "2  2019-03-21       Jeremiah David  BMO Mobile Banking  Google Play       5   \n",
       "4  2019-03-20  Etienne Matuszewski  BMO Mobile Banking  Google Play       1   \n",
       "5  2019-03-20        Stefdax Bijou  BMO Mobile Banking  Google Play       1   \n",
       "\n",
       "                                                Body  \n",
       "0  Honestly this app makes my blood boil to the p...  \n",
       "1      Super user friendly and has everything I need  \n",
       "2  above average excellent appt does everything I...  \n",
       "4  According to Protectstar anti-spying apps, the...  \n",
       "5  Always need to have Wi-Fi to get my bank info,...  "
      ]
     },
     "execution_count": 7,
     "metadata": {},
     "output_type": "execute_result"
    }
   ],
   "source": [
    "df_bmo_app=df_bmo_app[['Date', 'Author', 'App Name', 'App Store', 'Rating', 'Body']]\n",
    "df_bmo_app.head()"
   ]
  },
  {
   "cell_type": "code",
   "execution_count": 8,
   "metadata": {},
   "outputs": [],
   "source": [
    "#rename cols\n",
    "df_bmo_app=df_bmo_app.rename(index=str, columns={'App Store': 'Platform', 'Body': 'Review', 'Author': 'User', 'Rating': 'Rating/Likes'})"
   ]
  },
  {
   "cell_type": "code",
   "execution_count": 9,
   "metadata": {},
   "outputs": [
    {
     "name": "stdout",
     "output_type": "stream",
     "text": [
      "55596\n"
     ]
    }
   ],
   "source": [
    "#converting Date from 'object' to datetime\n",
    "df_bmo_app['Date'] = pd.to_datetime(df_bmo_app['Date'])\n",
    "print(df_bmo_app.size)"
   ]
  },
  {
   "cell_type": "code",
   "execution_count": 10,
   "metadata": {},
   "outputs": [
    {
     "name": "stdout",
     "output_type": "stream",
     "text": [
      "              user                       fullname             tweet-id  \\\n",
      "0  Tpyo9K7PUIEKlMC  อย่ามองตาได้ไหมถ้าเธอไม่หล่อ~  1098974331097378816   \n",
      "1   ltopshbottom28           ˡᵃᵘʳ  🌼 BLOCK DE SDV  1098710034173870080   \n",
      "2     Mareeeeeeech                            mr.  1098628200022847489   \n",
      "3       AnimalGG15                       Animal15  1098390118317072384   \n",
      "4       megami_901                             女神  1098628196533063680   \n",
      "\n",
      "             timestamp                                          url  likes  \\\n",
      "0  2019-02-22 15:54:33  /Tpyo9K7PUIEKlMC/status/1098974331097378816      1   \n",
      "1  2019-02-21 22:24:19   /ltopshbottom28/status/1098710034173870080      0   \n",
      "2  2019-02-21 16:59:09     /Mareeeeeeech/status/1098628200022847489      1   \n",
      "3  2019-02-21 01:13:05       /AnimalGG15/status/1098390118317072384      3   \n",
      "4  2019-02-21 16:59:08       /megami_901/status/1098628196533063680    107   \n",
      "\n",
      "   replies  retweets                                               text  \\\n",
      "0        0         2  ขอยาสเกลียสแท้กนิดนุงนะ5555 #ประยุทธ์ไม่กล้าดีเบต   \n",
      "1        0         0                                  Follow me pleasee   \n",
      "2        0         0                                                NaN   \n",
      "3        1         9  Gente!! Me ayudan con 15rt para que @z_slopy m...   \n",
      "4        3        11  鈴(りん)でちゅ\\n今からジャンプちゅるでちゆ\\n見ててくだちゃいね。pic.twitter...   \n",
      "\n",
      "                                                html Platform App Name  \n",
      "0  <p class=\"TweetTextSize js-tweet-text tweet-te...  Twitter      BMO  \n",
      "1  <p class=\"TweetTextSize js-tweet-text tweet-te...  Twitter      BMO  \n",
      "2  <p class=\"TweetTextSize js-tweet-text tweet-te...  Twitter      BMO  \n",
      "3  <p class=\"TweetTextSize js-tweet-text tweet-te...  Twitter      BMO  \n",
      "4  <p class=\"TweetTextSize js-tweet-text tweet-te...  Twitter      BMO  \n"
     ]
    }
   ],
   "source": [
    "#identify sourses\n",
    "df_bmo_tweets['Platform'] = 'Twitter'\n",
    "df_bmo_tweets['App Name'] = 'BMO'\n",
    "# Check the top records\n",
    "print(df_bmo_tweets.head())"
   ]
  },
  {
   "cell_type": "markdown",
   "metadata": {},
   "source": [
    "### In the df_tweets, we are going to keep timestamp, user, likes, text Add App Name and Platform.Then, we will remove duplicates."
   ]
  },
  {
   "cell_type": "code",
   "execution_count": 11,
   "metadata": {},
   "outputs": [],
   "source": [
    "#rename cols\n",
    "df_bmo_tweets=df_bmo_tweets.rename(index=str, columns={'timestamp':'Date','user':'User','likes':'Rating/Likes','text':'Review'})"
   ]
  },
  {
   "cell_type": "code",
   "execution_count": 12,
   "metadata": {},
   "outputs": [
    {
     "data": {
      "text/html": [
       "<div>\n",
       "<style scoped>\n",
       "    .dataframe tbody tr th:only-of-type {\n",
       "        vertical-align: middle;\n",
       "    }\n",
       "\n",
       "    .dataframe tbody tr th {\n",
       "        vertical-align: top;\n",
       "    }\n",
       "\n",
       "    .dataframe thead th {\n",
       "        text-align: right;\n",
       "    }\n",
       "</style>\n",
       "<table border=\"1\" class=\"dataframe\">\n",
       "  <thead>\n",
       "    <tr style=\"text-align: right;\">\n",
       "      <th></th>\n",
       "      <th>Date</th>\n",
       "      <th>User</th>\n",
       "      <th>App Name</th>\n",
       "      <th>Platform</th>\n",
       "      <th>Rating/Likes</th>\n",
       "      <th>Review</th>\n",
       "    </tr>\n",
       "  </thead>\n",
       "  <tbody>\n",
       "    <tr>\n",
       "      <th>0</th>\n",
       "      <td>2019-02-22 15:54:33</td>\n",
       "      <td>Tpyo9K7PUIEKlMC</td>\n",
       "      <td>BMO</td>\n",
       "      <td>Twitter</td>\n",
       "      <td>1</td>\n",
       "      <td>ขอยาสเกลียสแท้กนิดนุงนะ5555 #ประยุทธ์ไม่กล้าดีเบต</td>\n",
       "    </tr>\n",
       "    <tr>\n",
       "      <th>1</th>\n",
       "      <td>2019-02-21 22:24:19</td>\n",
       "      <td>ltopshbottom28</td>\n",
       "      <td>BMO</td>\n",
       "      <td>Twitter</td>\n",
       "      <td>0</td>\n",
       "      <td>Follow me pleasee</td>\n",
       "    </tr>\n",
       "    <tr>\n",
       "      <th>2</th>\n",
       "      <td>2019-02-21 16:59:09</td>\n",
       "      <td>Mareeeeeeech</td>\n",
       "      <td>BMO</td>\n",
       "      <td>Twitter</td>\n",
       "      <td>1</td>\n",
       "      <td>NaN</td>\n",
       "    </tr>\n",
       "    <tr>\n",
       "      <th>3</th>\n",
       "      <td>2019-02-21 01:13:05</td>\n",
       "      <td>AnimalGG15</td>\n",
       "      <td>BMO</td>\n",
       "      <td>Twitter</td>\n",
       "      <td>3</td>\n",
       "      <td>Gente!! Me ayudan con 15rt para que @z_slopy m...</td>\n",
       "    </tr>\n",
       "    <tr>\n",
       "      <th>4</th>\n",
       "      <td>2019-02-21 16:59:08</td>\n",
       "      <td>megami_901</td>\n",
       "      <td>BMO</td>\n",
       "      <td>Twitter</td>\n",
       "      <td>107</td>\n",
       "      <td>鈴(りん)でちゅ\\n今からジャンプちゅるでちゆ\\n見ててくだちゃいね。pic.twitter...</td>\n",
       "    </tr>\n",
       "  </tbody>\n",
       "</table>\n",
       "</div>"
      ],
      "text/plain": [
       "                  Date             User App Name Platform  Rating/Likes  \\\n",
       "0  2019-02-22 15:54:33  Tpyo9K7PUIEKlMC      BMO  Twitter             1   \n",
       "1  2019-02-21 22:24:19   ltopshbottom28      BMO  Twitter             0   \n",
       "2  2019-02-21 16:59:09     Mareeeeeeech      BMO  Twitter             1   \n",
       "3  2019-02-21 01:13:05       AnimalGG15      BMO  Twitter             3   \n",
       "4  2019-02-21 16:59:08       megami_901      BMO  Twitter           107   \n",
       "\n",
       "                                              Review  \n",
       "0  ขอยาสเกลียสแท้กนิดนุงนะ5555 #ประยุทธ์ไม่กล้าดีเบต  \n",
       "1                                  Follow me pleasee  \n",
       "2                                                NaN  \n",
       "3  Gente!! Me ayudan con 15rt para que @z_slopy m...  \n",
       "4  鈴(りん)でちゅ\\n今からジャンプちゅるでちゆ\\n見ててくだちゃいね。pic.twitter...  "
      ]
     },
     "execution_count": 12,
     "metadata": {},
     "output_type": "execute_result"
    }
   ],
   "source": [
    "#change col order\n",
    "df_bmo_tweets=df_bmo_tweets[['Date','User','App Name','Platform','Rating/Likes','Review']]\n",
    "df_bmo_tweets.head()"
   ]
  },
  {
   "cell_type": "code",
   "execution_count": 13,
   "metadata": {},
   "outputs": [],
   "source": [
    "#converting Date from 'object' to datetime\n",
    "df_bmo_tweets['Date'] = pd.to_datetime(df_bmo_tweets['Date'])"
   ]
  },
  {
   "cell_type": "markdown",
   "metadata": {},
   "source": [
    "### convert to lowercase, keep tweets contains 'bmo'"
   ]
  },
  {
   "cell_type": "code",
   "execution_count": 14,
   "metadata": {},
   "outputs": [
    {
     "name": "stdout",
     "output_type": "stream",
     "text": [
      "363054\n"
     ]
    }
   ],
   "source": [
    "# Convert them to lowercase\n",
    "df_bmo_tweets['Review'] = df_bmo_tweets['Review'].str.lower()\n",
    "print(df_bmo_tweets.size)"
   ]
  },
  {
   "cell_type": "code",
   "execution_count": 15,
   "metadata": {},
   "outputs": [
    {
     "name": "stdout",
     "output_type": "stream",
     "text": [
      "351906\n"
     ]
    }
   ],
   "source": [
    "# Remove duplicates\n",
    "df_bmo_tweets= df_bmo_tweets.drop_duplicates(subset=['Review'])\n",
    "print(df_bmo_tweets.size)"
   ]
  },
  {
   "cell_type": "code",
   "execution_count": 16,
   "metadata": {},
   "outputs": [
    {
     "data": {
      "text/plain": [
       "Date            0\n",
       "User            0\n",
       "App Name        0\n",
       "Platform        0\n",
       "Rating/Likes    0\n",
       "Review          1\n",
       "dtype: int64"
      ]
     },
     "execution_count": 16,
     "metadata": {},
     "output_type": "execute_result"
    }
   ],
   "source": [
    "# check NaN\n",
    "df_bmo_tweets.isna().sum()"
   ]
  },
  {
   "cell_type": "code",
   "execution_count": 17,
   "metadata": {},
   "outputs": [
    {
     "name": "stdout",
     "output_type": "stream",
     "text": [
      "183048\n"
     ]
    }
   ],
   "source": [
    "# Keep tweets that contain 'bmo'\n",
    "df_bmo_tweets = df_bmo_tweets[df_bmo_tweets['Review'].str.contains('bmo',na=False)]\n",
    "print(df_bmo_tweets.size)"
   ]
  },
  {
   "cell_type": "markdown",
   "metadata": {},
   "source": [
    "### dropping all users that have 'BMO' in their username as we are interested only in clients and not bank's responses."
   ]
  },
  {
   "cell_type": "code",
   "execution_count": 18,
   "metadata": {},
   "outputs": [
    {
     "name": "stdout",
     "output_type": "stream",
     "text": [
      "166398\n"
     ]
    }
   ],
   "source": [
    "df_bmo_tweets = df_bmo_tweets[~df_bmo_tweets.User.str.contains('BMO', na = False)]\n",
    "print(df_bmo_tweets.size)"
   ]
  },
  {
   "cell_type": "markdown",
   "metadata": {},
   "source": [
    "### Now merge the two datasets."
   ]
  },
  {
   "cell_type": "code",
   "execution_count": 19,
   "metadata": {},
   "outputs": [
    {
     "name": "stdout",
     "output_type": "stream",
     "text": [
      "                 Date           User App Name Platform  Rating/Likes  \\\n",
      "0 2019-01-16 23:33:33  WisconsinHerd      BMO  Twitter             1   \n",
      "1 2019-01-16 22:51:53  Ryan_King_EDU      BMO  Twitter            40   \n",
      "2 2019-01-16 22:13:13        DrCeitm      BMO  Twitter             0   \n",
      "3 2019-01-16 21:28:24   Catalyst_yyc      BMO  Twitter             1   \n",
      "4 2019-01-16 20:55:09      IE_Canada      BMO  Twitter             0   \n",
      "\n",
      "                                              Review  \n",
      "0   congrats to you and your school!\\n@bmoharrisbank  \n",
      "1  i knew my puzzle skills and jumper would event...  \n",
      "2  once @bmo showed me they are win. they were so...  \n",
      "3  getting close to our agriculture conference. w...  \n",
      "4  .@bmo creates bmo private wealth canada and as...  \n",
      "\n",
      "--Total Number of De-duplicated Tweets that contain 'bmo': 27733 --\n",
      "\n",
      "\n",
      "--Total Number of English App Reivews: 9266 --\n",
      "\n",
      "\n",
      "--Total Number of Comments: 36999 --\n"
     ]
    }
   ],
   "source": [
    "# Appending two dataframes\n",
    "df_combined = pd.concat([df_bmo_tweets, df_bmo_app], ignore_index = True)\n",
    "print(df_combined.head())\n",
    "print('\\n--Total Number of De-duplicated Tweets that contain \\'bmo\\': {} --\\n'.format(len(df_bmo_tweets)))\n",
    "print('\\n--Total Number of English App Reivews: {} --\\n'.format(len(df_bmo_app)))\n",
    "print('\\n--Total Number of Comments: {} --'.format(len(df_combined)))"
   ]
  },
  {
   "cell_type": "markdown",
   "metadata": {},
   "source": [
    "### After consolidating the dataset we end up with 36999 reviews to work with for BMO"
   ]
  },
  {
   "cell_type": "code",
   "execution_count": 20,
   "metadata": {},
   "outputs": [],
   "source": [
    "# dataframe to csv file\n",
    "df_combined.to_csv(r'bmo_consolidated.csv', index=False)"
   ]
  },
  {
   "cell_type": "code",
   "execution_count": 29,
   "metadata": {},
   "outputs": [],
   "source": [
    "### check English\n",
    "from langdetect import detect"
   ]
  },
  {
   "cell_type": "code",
   "execution_count": null,
   "metadata": {},
   "outputs": [],
   "source": [
    "lang = []    \n",
    "for r in df_combined['Review']:\n",
    "    lang = detect(r)\n",
    "    df_combined['Languagereveiw'] = lang"
   ]
  },
  {
   "cell_type": "code",
   "execution_count": null,
   "metadata": {},
   "outputs": [],
   "source": []
  }
 ],
 "metadata": {
  "kernelspec": {
   "display_name": "Python 3",
   "language": "python",
   "name": "python3"
  },
  "language_info": {
   "codemirror_mode": {
    "name": "ipython",
    "version": 3
   },
   "file_extension": ".py",
   "mimetype": "text/x-python",
   "name": "python",
   "nbconvert_exporter": "python",
   "pygments_lexer": "ipython3",
   "version": "3.7.4"
  }
 },
 "nbformat": 4,
 "nbformat_minor": 2
}
